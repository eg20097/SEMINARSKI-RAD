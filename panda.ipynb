{
 "cells": [
  {
   "cell_type": "code",
   "execution_count": 1,
   "id": "6af500e2",
   "metadata": {
    "_cell_guid": "b1076dfc-b9ad-4769-8c92-a6c4dae69d19",
    "_uuid": "8f2839f25d086af736a60e9eeb907d3b93b6e0e5",
    "execution": {
     "iopub.execute_input": "2022-12-06T18:33:12.373631Z",
     "iopub.status.busy": "2022-12-06T18:33:12.372914Z",
     "iopub.status.idle": "2022-12-06T18:33:12.384267Z",
     "shell.execute_reply": "2022-12-06T18:33:12.383070Z"
    },
    "papermill": {
     "duration": 0.020215,
     "end_time": "2022-12-06T18:33:12.387300",
     "exception": false,
     "start_time": "2022-12-06T18:33:12.367085",
     "status": "completed"
    },
    "tags": []
   },
   "outputs": [],
   "source": [
    "#kako da se preuzme Pandas i da provjerimo verziju\n",
    "\n",
    "import pandas as pd\n",
    "#print(pd.__version__)\n",
    "\n",
    "#Napravimo pandas niz od: 1)list, 2)numpy array, 3)dictionary\n",
    "\n",
    "import numpy as np\n",
    "lista = list(\"abcdefg\")\n",
    "numpy_array = np.arange(1, 10) #od 1 do 10 svi brojevi\n",
    "dictionary = {\"A\":  0, \"B\":1, \"C\":2, \"D\":3, \"E\":5}\n",
    "\n"
   ]
  },
  {
   "cell_type": "code",
   "execution_count": 2,
   "id": "66c85ded",
   "metadata": {
    "execution": {
     "iopub.execute_input": "2022-12-06T18:33:12.395282Z",
     "iopub.status.busy": "2022-12-06T18:33:12.394855Z",
     "iopub.status.idle": "2022-12-06T18:33:12.409597Z",
     "shell.execute_reply": "2022-12-06T18:33:12.407717Z"
    },
    "papermill": {
     "duration": 0.022242,
     "end_time": "2022-12-06T18:33:12.412906",
     "exception": false,
     "start_time": "2022-12-06T18:33:12.390664",
     "status": "completed"
    },
    "tags": []
   },
   "outputs": [
    {
     "name": "stdout",
     "output_type": "stream",
     "text": [
      "0    a\n",
      "1    b\n",
      "2    c\n",
      "3    d\n",
      "4    e\n",
      "5    f\n",
      "6    g\n",
      "dtype: object\n",
      "0    1\n",
      "1    2\n",
      "2    3\n",
      "3    4\n",
      "4    5\n",
      "5    6\n",
      "6    7\n",
      "7    8\n",
      "8    9\n",
      "dtype: int64\n",
      "A    0\n",
      "B    1\n",
      "C    2\n",
      "D    3\n",
      "E    5\n",
      "dtype: int64\n"
     ]
    }
   ],
   "source": [
    "series1 = pd.Series(lista) #stampa svaki element liste u vrste i oznacavamo vrste od 0 do broj elemenata unutar liste\n",
    "print(series1)\n",
    "series2 = pd.Series(numpy_array)\n",
    "print(series2)\n",
    "series3 = pd.Series(dictionary) #kod dictionary ne oznacimo vrste \n",
    "#sa indeksima nego kako su oznacene unutar dictionary\n",
    "print(series3)\n",
    "\n"
   ]
  },
  {
   "cell_type": "code",
   "execution_count": 3,
   "id": "aa7af3de",
   "metadata": {
    "execution": {
     "iopub.execute_input": "2022-12-06T18:33:12.421282Z",
     "iopub.status.busy": "2022-12-06T18:33:12.420915Z",
     "iopub.status.idle": "2022-12-06T18:33:12.448488Z",
     "shell.execute_reply": "2022-12-06T18:33:12.447363Z"
    },
    "papermill": {
     "duration": 0.034558,
     "end_time": "2022-12-06T18:33:12.450725",
     "exception": false,
     "start_time": "2022-12-06T18:33:12.416167",
     "status": "completed"
    },
    "tags": []
   },
   "outputs": [
    {
     "data": {
      "text/html": [
       "<div>\n",
       "<style scoped>\n",
       "    .dataframe tbody tr th:only-of-type {\n",
       "        vertical-align: middle;\n",
       "    }\n",
       "\n",
       "    .dataframe tbody tr th {\n",
       "        vertical-align: top;\n",
       "    }\n",
       "\n",
       "    .dataframe thead th {\n",
       "        text-align: right;\n",
       "    }\n",
       "</style>\n",
       "<table border=\"1\" class=\"dataframe\">\n",
       "  <thead>\n",
       "    <tr style=\"text-align: right;\">\n",
       "      <th></th>\n",
       "      <th>index</th>\n",
       "      <th>0</th>\n",
       "    </tr>\n",
       "  </thead>\n",
       "  <tbody>\n",
       "    <tr>\n",
       "      <th>0</th>\n",
       "      <td>a</td>\n",
       "      <td>0</td>\n",
       "    </tr>\n",
       "    <tr>\n",
       "      <th>1</th>\n",
       "      <td>b</td>\n",
       "      <td>1</td>\n",
       "    </tr>\n",
       "    <tr>\n",
       "      <th>2</th>\n",
       "      <td>c</td>\n",
       "      <td>2</td>\n",
       "    </tr>\n",
       "    <tr>\n",
       "      <th>3</th>\n",
       "      <td>e</td>\n",
       "      <td>3</td>\n",
       "    </tr>\n",
       "    <tr>\n",
       "      <th>4</th>\n",
       "      <td>d</td>\n",
       "      <td>4</td>\n",
       "    </tr>\n",
       "    <tr>\n",
       "      <th>5</th>\n",
       "      <td>f</td>\n",
       "      <td>5</td>\n",
       "    </tr>\n",
       "    <tr>\n",
       "      <th>6</th>\n",
       "      <td>g</td>\n",
       "      <td>6</td>\n",
       "    </tr>\n",
       "    <tr>\n",
       "      <th>7</th>\n",
       "      <td>h</td>\n",
       "      <td>7</td>\n",
       "    </tr>\n",
       "    <tr>\n",
       "      <th>8</th>\n",
       "      <td>i</td>\n",
       "      <td>8</td>\n",
       "    </tr>\n",
       "    <tr>\n",
       "      <th>9</th>\n",
       "      <td>j</td>\n",
       "      <td>9</td>\n",
       "    </tr>\n",
       "    <tr>\n",
       "      <th>10</th>\n",
       "      <td>k</td>\n",
       "      <td>10</td>\n",
       "    </tr>\n",
       "    <tr>\n",
       "      <th>11</th>\n",
       "      <td>l</td>\n",
       "      <td>11</td>\n",
       "    </tr>\n",
       "    <tr>\n",
       "      <th>12</th>\n",
       "      <td>m</td>\n",
       "      <td>12</td>\n",
       "    </tr>\n",
       "    <tr>\n",
       "      <th>13</th>\n",
       "      <td>n</td>\n",
       "      <td>13</td>\n",
       "    </tr>\n",
       "    <tr>\n",
       "      <th>14</th>\n",
       "      <td>o</td>\n",
       "      <td>14</td>\n",
       "    </tr>\n",
       "    <tr>\n",
       "      <th>15</th>\n",
       "      <td>p</td>\n",
       "      <td>15</td>\n",
       "    </tr>\n",
       "    <tr>\n",
       "      <th>16</th>\n",
       "      <td>q</td>\n",
       "      <td>16</td>\n",
       "    </tr>\n",
       "    <tr>\n",
       "      <th>17</th>\n",
       "      <td>r</td>\n",
       "      <td>17</td>\n",
       "    </tr>\n",
       "    <tr>\n",
       "      <th>18</th>\n",
       "      <td>s</td>\n",
       "      <td>18</td>\n",
       "    </tr>\n",
       "    <tr>\n",
       "      <th>19</th>\n",
       "      <td>t</td>\n",
       "      <td>19</td>\n",
       "    </tr>\n",
       "    <tr>\n",
       "      <th>20</th>\n",
       "      <td>u</td>\n",
       "      <td>20</td>\n",
       "    </tr>\n",
       "    <tr>\n",
       "      <th>21</th>\n",
       "      <td>v</td>\n",
       "      <td>21</td>\n",
       "    </tr>\n",
       "    <tr>\n",
       "      <th>22</th>\n",
       "      <td>w</td>\n",
       "      <td>22</td>\n",
       "    </tr>\n",
       "    <tr>\n",
       "      <th>23</th>\n",
       "      <td>x</td>\n",
       "      <td>23</td>\n",
       "    </tr>\n",
       "    <tr>\n",
       "      <th>24</th>\n",
       "      <td>y</td>\n",
       "      <td>24</td>\n",
       "    </tr>\n",
       "    <tr>\n",
       "      <th>25</th>\n",
       "      <td>z</td>\n",
       "      <td>25</td>\n",
       "    </tr>\n",
       "  </tbody>\n",
       "</table>\n",
       "</div>"
      ],
      "text/plain": [
       "   index   0\n",
       "0      a   0\n",
       "1      b   1\n",
       "2      c   2\n",
       "3      e   3\n",
       "4      d   4\n",
       "5      f   5\n",
       "6      g   6\n",
       "7      h   7\n",
       "8      i   8\n",
       "9      j   9\n",
       "10     k  10\n",
       "11     l  11\n",
       "12     m  12\n",
       "13     n  13\n",
       "14     o  14\n",
       "15     p  15\n",
       "16     q  16\n",
       "17     r  17\n",
       "18     s  18\n",
       "19     t  19\n",
       "20     u  20\n",
       "21     v  21\n",
       "22     w  22\n",
       "23     x  23\n",
       "24     y  24\n",
       "25     z  25"
      ]
     },
     "execution_count": 3,
     "metadata": {},
     "output_type": "execute_result"
    }
   ],
   "source": [
    "#Kako da napravimo tabelu\n",
    "\n",
    "mylist = list('abcedfghijklmnopqrstuvwxyz')\n",
    "myarr = np.arange(26)\n",
    "mydict = dict(zip(mylist, myarr)) #napravimo dictionary tako da spojimo prvi element \n",
    "#iz my list sa prvom elementom od myarr\n",
    "#print(mydict)\n",
    "ser = pd.Series(mydict)\n",
    "#print(ser)\n",
    "\n",
    "ser_df = pd.DataFrame(ser)#dodamo jos jednu vrstu gore jer to ce da nam bude potrebno za indeksiranje\n",
    "#print(ser_df)\n",
    "ser_df.reset_index() #stavimo indekse od 0 do n, lijeva kolona "
   ]
  },
  {
   "cell_type": "code",
   "execution_count": 4,
   "id": "47df7373",
   "metadata": {
    "execution": {
     "iopub.execute_input": "2022-12-06T18:33:12.459226Z",
     "iopub.status.busy": "2022-12-06T18:33:12.458868Z",
     "iopub.status.idle": "2022-12-06T18:33:12.471078Z",
     "shell.execute_reply": "2022-12-06T18:33:12.470009Z"
    },
    "papermill": {
     "duration": 0.019049,
     "end_time": "2022-12-06T18:33:12.473323",
     "exception": false,
     "start_time": "2022-12-06T18:33:12.454274",
     "status": "completed"
    },
    "tags": []
   },
   "outputs": [
    {
     "data": {
      "text/html": [
       "<div>\n",
       "<style scoped>\n",
       "    .dataframe tbody tr th:only-of-type {\n",
       "        vertical-align: middle;\n",
       "    }\n",
       "\n",
       "    .dataframe tbody tr th {\n",
       "        vertical-align: top;\n",
       "    }\n",
       "\n",
       "    .dataframe thead th {\n",
       "        text-align: right;\n",
       "    }\n",
       "</style>\n",
       "<table border=\"1\" class=\"dataframe\">\n",
       "  <thead>\n",
       "    <tr style=\"text-align: right;\">\n",
       "      <th></th>\n",
       "      <th>col1</th>\n",
       "      <th>col2</th>\n",
       "    </tr>\n",
       "  </thead>\n",
       "  <tbody>\n",
       "    <tr>\n",
       "      <th>0</th>\n",
       "      <td>E</td>\n",
       "      <td>0</td>\n",
       "    </tr>\n",
       "    <tr>\n",
       "      <th>1</th>\n",
       "      <td>n</td>\n",
       "      <td>1</td>\n",
       "    </tr>\n",
       "    <tr>\n",
       "      <th>2</th>\n",
       "      <td>i</td>\n",
       "      <td>2</td>\n",
       "    </tr>\n",
       "    <tr>\n",
       "      <th>3</th>\n",
       "      <td>s</td>\n",
       "      <td>3</td>\n",
       "    </tr>\n",
       "    <tr>\n",
       "      <th>4</th>\n",
       "      <td>a</td>\n",
       "      <td>4</td>\n",
       "    </tr>\n",
       "  </tbody>\n",
       "</table>\n",
       "</div>"
      ],
      "text/plain": [
       "  col1  col2\n",
       "0    E     0\n",
       "1    n     1\n",
       "2    i     2\n",
       "3    s     3\n",
       "4    a     4"
      ]
     },
     "execution_count": 4,
     "metadata": {},
     "output_type": "execute_result"
    }
   ],
   "source": [
    "#Kako da prikazemo dvije ili vise nizova tabelarno\n",
    "ser1 = pd.Series(list('EnisaErestina'))\n",
    "ser2 = pd.Series(np.arange(13))\n",
    "#print(ser1)\n",
    "#print(ser2)\n",
    "\n",
    "#Koristimo Pandas DataFrame\n",
    "twoser = pd.DataFrame({\"col1\":ser1, \"col2\":ser2})\n",
    "twoser.head() #po default pokaze samo prve 5 vrste, a mozemo vise ili manje od toga npr twoser.head(13)\n",
    "#print(twoser) - print ne stampa ih kako treba, preglednije .head()"
   ]
  },
  {
   "cell_type": "code",
   "execution_count": 5,
   "id": "57f11b72",
   "metadata": {
    "execution": {
     "iopub.execute_input": "2022-12-06T18:33:12.481845Z",
     "iopub.status.busy": "2022-12-06T18:33:12.481440Z",
     "iopub.status.idle": "2022-12-06T18:33:12.489913Z",
     "shell.execute_reply": "2022-12-06T18:33:12.488758Z"
    },
    "papermill": {
     "duration": 0.01581,
     "end_time": "2022-12-06T18:33:12.492615",
     "exception": false,
     "start_time": "2022-12-06T18:33:12.476805",
     "status": "completed"
    },
    "tags": []
   },
   "outputs": [
    {
     "data": {
      "text/plain": [
       "0     a\n",
       "1     b\n",
       "2     c\n",
       "3     e\n",
       "4     d\n",
       "5     f\n",
       "6     g\n",
       "7     h\n",
       "8     i\n",
       "9     j\n",
       "10    k\n",
       "11    l\n",
       "12    m\n",
       "13    n\n",
       "14    o\n",
       "15    p\n",
       "16    q\n",
       "17    r\n",
       "18    s\n",
       "19    t\n",
       "20    u\n",
       "21    v\n",
       "22    w\n",
       "23    x\n",
       "24    y\n",
       "25    z\n",
       "Name: slove, dtype: object"
      ]
     },
     "execution_count": 5,
     "metadata": {},
     "output_type": "execute_result"
    }
   ],
   "source": [
    "#Kako dati ime nizu?\n",
    "niz = pd.Series(list('abcedfghijklmnopqrstuvwxyz'))\n",
    "niz.name = \"slove\" #koristimo atribut name\n",
    "niz #ili print(niz)"
   ]
  },
  {
   "cell_type": "code",
   "execution_count": 6,
   "id": "a82e8280",
   "metadata": {
    "execution": {
     "iopub.execute_input": "2022-12-06T18:33:12.501793Z",
     "iopub.status.busy": "2022-12-06T18:33:12.501384Z",
     "iopub.status.idle": "2022-12-06T18:33:12.514361Z",
     "shell.execute_reply": "2022-12-06T18:33:12.513277Z"
    },
    "papermill": {
     "duration": 0.020507,
     "end_time": "2022-12-06T18:33:12.516874",
     "exception": false,
     "start_time": "2022-12-06T18:33:12.496367",
     "status": "completed"
    },
    "tags": []
   },
   "outputs": [
    {
     "data": {
      "text/html": [
       "<div>\n",
       "<style scoped>\n",
       "    .dataframe tbody tr th:only-of-type {\n",
       "        vertical-align: middle;\n",
       "    }\n",
       "\n",
       "    .dataframe tbody tr th {\n",
       "        vertical-align: top;\n",
       "    }\n",
       "\n",
       "    .dataframe thead th {\n",
       "        text-align: right;\n",
       "    }\n",
       "</style>\n",
       "<table border=\"1\" class=\"dataframe\">\n",
       "  <thead>\n",
       "    <tr style=\"text-align: right;\">\n",
       "      <th></th>\n",
       "      <th>0</th>\n",
       "      <th>1</th>\n",
       "      <th>2</th>\n",
       "      <th>3</th>\n",
       "      <th>4</th>\n",
       "      <th>5</th>\n",
       "    </tr>\n",
       "  </thead>\n",
       "  <tbody>\n",
       "    <tr>\n",
       "      <th>0</th>\n",
       "      <td>10</td>\n",
       "      <td>6</td>\n",
       "      <td>11</td>\n",
       "      <td>3</td>\n",
       "      <td>1</td>\n",
       "      <td>9</td>\n",
       "    </tr>\n",
       "    <tr>\n",
       "      <th>1</th>\n",
       "      <td>12</td>\n",
       "      <td>14</td>\n",
       "      <td>2</td>\n",
       "      <td>12</td>\n",
       "      <td>4</td>\n",
       "      <td>13</td>\n",
       "    </tr>\n",
       "    <tr>\n",
       "      <th>2</th>\n",
       "      <td>5</td>\n",
       "      <td>9</td>\n",
       "      <td>11</td>\n",
       "      <td>14</td>\n",
       "      <td>8</td>\n",
       "      <td>2</td>\n",
       "    </tr>\n",
       "    <tr>\n",
       "      <th>3</th>\n",
       "      <td>14</td>\n",
       "      <td>6</td>\n",
       "      <td>7</td>\n",
       "      <td>3</td>\n",
       "      <td>13</td>\n",
       "      <td>12</td>\n",
       "    </tr>\n",
       "    <tr>\n",
       "      <th>4</th>\n",
       "      <td>7</td>\n",
       "      <td>8</td>\n",
       "      <td>7</td>\n",
       "      <td>2</td>\n",
       "      <td>10</td>\n",
       "      <td>6</td>\n",
       "    </tr>\n",
       "  </tbody>\n",
       "</table>\n",
       "</div>"
      ],
      "text/plain": [
       "    0   1   2   3   4   5\n",
       "0  10   6  11   3   1   9\n",
       "1  12  14   2  12   4  13\n",
       "2   5   9  11  14   8   2\n",
       "3  14   6   7   3  13  12\n",
       "4   7   8   7   2  10   6"
      ]
     },
     "execution_count": 6,
     "metadata": {},
     "output_type": "execute_result"
    }
   ],
   "source": [
    "#Kako da napravimo niz koji ima 30 elemenata i svi elementi imaju vrijednosti od 0 do 15?\n",
    "\n",
    "new = pd.Series(np.random.randint(1, 15, 30)) # 1 je od kojeg broja moze da pocinje do 15\n",
    "# 30 je koliko linija, vrste imamo\n",
    "new \n",
    "#dovoljno je samo ime ne treba print ovdje\n",
    "\n",
    "pd.DataFrame(new.values.reshape(5, 6)) # koristimo 5 i 6 jer 5 * 6, uvijek proizvod\n",
    "#ove dvije daje broj linija, 5 vrsta i 6 kolona\n",
    "#napravili smo tablicu na neki drugi nacin"
   ]
  },
  {
   "cell_type": "code",
   "execution_count": 7,
   "id": "5807edb6",
   "metadata": {
    "execution": {
     "iopub.execute_input": "2022-12-06T18:33:12.526900Z",
     "iopub.status.busy": "2022-12-06T18:33:12.526433Z",
     "iopub.status.idle": "2022-12-06T18:33:12.536036Z",
     "shell.execute_reply": "2022-12-06T18:33:12.534942Z"
    },
    "papermill": {
     "duration": 0.017532,
     "end_time": "2022-12-06T18:33:12.538462",
     "exception": false,
     "start_time": "2022-12-06T18:33:12.520930",
     "status": "completed"
    },
    "tags": []
   },
   "outputs": [
    {
     "data": {
      "text/plain": [
       "0     P\n",
       "4     a\n",
       "8     _\n",
       "14    e\n",
       "dtype: object"
      ]
     },
     "execution_count": 7,
     "metadata": {},
     "output_type": "execute_result"
    }
   ],
   "source": [
    "#Kako da nadjemo elemente koje su na odredjene pozicije?\n",
    "\n",
    "n = pd.Series(list('Pandas_u_Kaggle'))\n",
    "pos = [0, 4, 8, 14]\n",
    "#Koristimo funkciju take, onda uzima vrijednost u poziciji koju mi definisemo\n",
    "n.take(pos)"
   ]
  },
  {
   "cell_type": "code",
   "execution_count": 8,
   "id": "e961d6b8",
   "metadata": {
    "execution": {
     "iopub.execute_input": "2022-12-06T18:33:12.548304Z",
     "iopub.status.busy": "2022-12-06T18:33:12.547868Z",
     "iopub.status.idle": "2022-12-06T18:33:12.557895Z",
     "shell.execute_reply": "2022-12-06T18:33:12.556804Z"
    },
    "papermill": {
     "duration": 0.017688,
     "end_time": "2022-12-06T18:33:12.560100",
     "exception": false,
     "start_time": "2022-12-06T18:33:12.542412",
     "status": "completed"
    },
    "tags": []
   },
   "outputs": [
    {
     "data": {
      "text/plain": [
       "0    Danas\n",
       "1       Je\n",
       "2    Lijep\n",
       "3      Dan\n",
       "dtype: object"
      ]
     },
     "execution_count": 8,
     "metadata": {},
     "output_type": "execute_result"
    }
   ],
   "source": [
    "#Da svaki rijec ima prvu veliku slovu\n",
    "ser = pd.Series(['Danas', 'je', 'lijep', 'dan'])\n",
    "ser\n",
    "[i.title() for i in ser] #list\n",
    "#ili\n",
    "ser.map(lambda x: x.title()) #tabela"
   ]
  }
 ],
 "metadata": {
  "kernelspec": {
   "display_name": "Python 3",
   "language": "python",
   "name": "python3"
  },
  "language_info": {
   "codemirror_mode": {
    "name": "ipython",
    "version": 3
   },
   "file_extension": ".py",
   "mimetype": "text/x-python",
   "name": "python",
   "nbconvert_exporter": "python",
   "pygments_lexer": "ipython3",
   "version": "3.7.12"
  },
  "papermill": {
   "default_parameters": {},
   "duration": 9.253913,
   "end_time": "2022-12-06T18:33:13.185285",
   "environment_variables": {},
   "exception": null,
   "input_path": "__notebook__.ipynb",
   "output_path": "__notebook__.ipynb",
   "parameters": {},
   "start_time": "2022-12-06T18:33:03.931372",
   "version": "2.3.4"
  }
 },
 "nbformat": 4,
 "nbformat_minor": 5
}
